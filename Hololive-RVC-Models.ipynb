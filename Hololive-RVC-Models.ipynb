{
  "nbformat": 4,
  "nbformat_minor": 0,
  "metadata": {
    "colab": {
      "provenance": [],
      "toc_visible": true,
      "include_colab_link": true
    },
    "kernelspec": {
      "name": "python3",
      "display_name": "Python 3"
    },
    "language_info": {
      "name": "python"
    },
    "accelerator": "GPU",
    "gpuClass": "standard"
  },
  "cells": [
    {
      "cell_type": "markdown",
      "metadata": {
        "id": "view-in-github",
        "colab_type": "text"
      },
      "source": [
        "<a href=\"https://colab.research.google.com/github/aziib/Create-Google-Shared-Drive/blob/master/Hololive-RVC-Models.ipynb\" target=\"_parent\"><img src=\"https://colab.research.google.com/assets/colab-badge.svg\" alt=\"Open In Colab\"/></a>"
      ]
    },
    {
      "cell_type": "markdown",
      "source": [
        "# Check GPU"
      ],
      "metadata": {
        "id": "kwjWcLtIGP56"
      }
    },
    {
      "cell_type": "code",
      "source": [
        "!nvidia-smi"
      ],
      "metadata": {
        "id": "I7XtgrWyGO03"
      },
      "execution_count": null,
      "outputs": []
    },
    {
      "cell_type": "code",
      "source": [
        "import torch\n",
        "\"GPU 🔥\" if torch.cuda.is_available() else \"CPU 🥶\""
      ],
      "metadata": {
        "id": "re3EAOUUKwL1"
      },
      "execution_count": null,
      "outputs": []
    },
    {
      "cell_type": "markdown",
      "source": [
        "# Clone Hugging Face Spaces Repo"
      ],
      "metadata": {
        "id": "IuJNlXTDFNRi"
      }
    },
    {
      "cell_type": "code",
      "execution_count": null,
      "metadata": {
        "id": "KzHQxbDoEHVm"
      },
      "outputs": [],
      "source": [
        "! git clone https://huggingface.co/spaces/anzorq/finetuned_diffusion"
      ]
    },
    {
      "cell_type": "markdown",
      "source": [
        "# Enter the Directory that's just downloaded"
      ],
      "metadata": {
        "id": "bq1JLmTwFQS1"
      }
    },
    {
      "cell_type": "code",
      "source": [
        "%cd finetuned_diffusion"
      ],
      "metadata": {
        "id": "ct3VVCUhEXNS"
      },
      "execution_count": null,
      "outputs": []
    },
    {
      "cell_type": "markdown",
      "source": [
        "# Check the contents of the Directory"
      ],
      "metadata": {
        "id": "GbVA-MeMFSB_"
      }
    },
    {
      "cell_type": "code",
      "source": [
        "!ls"
      ],
      "metadata": {
        "id": "tnrRcfoHFJNr"
      },
      "execution_count": null,
      "outputs": []
    },
    {
      "cell_type": "markdown",
      "source": [
        "# Install the required libraries"
      ],
      "metadata": {
        "id": "jSwgikZUFXSq"
      }
    },
    {
      "cell_type": "code",
      "source": [
        "! pip install -r requirements.txt -q"
      ],
      "metadata": {
        "id": "wor-1cibFJ5Y"
      },
      "execution_count": null,
      "outputs": []
    },
    {
      "cell_type": "code",
      "source": [
        "! pip install gradio -q #gradio isn't required to be mentioned on requirements for apps on HF space"
      ],
      "metadata": {
        "id": "t0zsiM0VFMVp"
      },
      "execution_count": null,
      "outputs": []
    },
    {
      "cell_type": "code",
      "source": [
        "# from huggingface_hub import notebook_login\n",
        "# notebook_login()"
      ],
      "metadata": {
        "id": "bhaVbdIIMWIC"
      },
      "execution_count": null,
      "outputs": []
    },
    {
      "cell_type": "markdown",
      "source": [
        "# Edit the app.py file if required"
      ],
      "metadata": {
        "id": "fcKIzh-UJdeo"
      }
    },
    {
      "cell_type": "code",
      "source": [
        "%%writefile app.py\n",
        "\n",
        "from email import generator\n",
        "from diffusers import StableDiffusionPipeline\n",
        "from diffusers import StableDiffusionImg2ImgPipeline\n",
        "import gradio as gr\n",
        "import torch\n",
        "\n",
        "models = [\n",
        "  \"nitrosocke/Arcane-Diffusion\",\n",
        "  \"nitrosocke/archer-diffusion\",\n",
        "  \"nitrosocke/elden-ring-diffusion\",\n",
        "  \"nitrosocke/spider-verse-diffusion\",\n",
        "  \"nitrosocke/modern-disney-diffusion\",\n",
        "  \"hakurei/waifu-diffusion\",\n",
        "  \"lambdalabs/sd-pokemon-diffusers\",\n",
        "  \"yuk/fuyuko-waifu-diffusion\",\n",
        "  \"AstraliteHeart/pony-diffusion\",\n",
        "  \"IfanSnek/JohnDiffusion\",\n",
        "  \"nousr/robo-diffusion\",\n",
        "  \"DGSpitzer/Cyberpunk-Anime-Diffusion\"\n",
        "]\n",
        "\n",
        "prompt_prefixes = {\n",
        "  models[0]: \"arcane style \",\n",
        "  models[1]: \"archer style \",\n",
        "  models[2]: \"elden ring style \",\n",
        "  models[3]: \"spiderverse style \",\n",
        "  models[4]: \"modern disney style \",\n",
        "  models[5]: \"\",\n",
        "  models[6]: \"\",\n",
        "  models[7]: \"\",\n",
        "  models[8]: \"\",\n",
        "  models[9]: \"\",\n",
        "  models[10]: \"\",\n",
        "  models[11]: \"dgs illustration style \",\n",
        "}\n",
        "\n",
        "current_model = models[0]\n",
        "pipe = StableDiffusionPipeline.from_pretrained(current_model, torch_dtype=torch.float16)\n",
        "if torch.cuda.is_available():\n",
        "  pipe = pipe.to(\"cuda\")\n",
        "\n",
        "device = \"GPU 🔥\" if torch.cuda.is_available() else \"CPU 🥶\"\n",
        "\n",
        "def inference(model, img, strength, prompt, guidance, steps, seed):\n",
        "\n",
        "  generator = torch.Generator('cuda').manual_seed(seed) if seed != 0 else None\n",
        "  \n",
        "  if img is not None:\n",
        "    return img_inference(model, prompt, img, strength, guidance, steps, generator)\n",
        "  else:\n",
        "    return text_inference(model, prompt, guidance, steps, generator)\n",
        "\n",
        "def text_inference(model, prompt, guidance, steps, generator=None):\n",
        "\n",
        "    global current_model\n",
        "    global pipe\n",
        "    if model != current_model:\n",
        "        current_model = model\n",
        "        pipe = StableDiffusionPipeline.from_pretrained(current_model, torch_dtype=torch.float16)\n",
        "        \n",
        "        if torch.cuda.is_available():\n",
        "            pipe = pipe.to(\"cuda\")\n",
        "\n",
        "    prompt = prompt_prefixes[current_model] + prompt\n",
        "    image = pipe(\n",
        "      prompt,\n",
        "      num_inference_steps=int(steps),\n",
        "      guidance_scale=guidance,\n",
        "      width=512,\n",
        "      height=512,\n",
        "      generator=generator).images[0]\n",
        "    return image\n",
        "\n",
        "def img_inference(model, prompt, img, strength, guidance, steps, generator):\n",
        "\n",
        "    global current_model\n",
        "    global pipe\n",
        "    if model != current_model:\n",
        "        current_model = model\n",
        "        pipe = StableDiffusionImg2ImgPipeline.from_pretrained(current_model, torch_dtype=torch.float16)\n",
        "        \n",
        "        if torch.cuda.is_available():\n",
        "            pipe = pipe.to(\"cuda\")\n",
        "\n",
        "    prompt = prompt_prefixes[current_model] + prompt\n",
        "    img.resize((512, 512))\n",
        "    image = pipe(\n",
        "        prompt,\n",
        "        init_image=img,\n",
        "        num_inference_steps=int(steps),\n",
        "        strength=strength,\n",
        "        guidance_scale=guidance,\n",
        "        width=512,\n",
        "        height=512,\n",
        "        generator=generator).images[0]\n",
        "    return image\n",
        "\n",
        "\n",
        "css = \"\"\"\n",
        "  <style>\n",
        "  .finetuned-diffusion-div {\n",
        "      text-align: center;\n",
        "      max-width: 700px;\n",
        "      margin: 0 auto;\n",
        "    }\n",
        "    .finetuned-diffusion-div div {\n",
        "      display: inline-flex;\n",
        "      align-items: center;\n",
        "      gap: 0.8rem;\n",
        "      font-size: 1.75rem;\n",
        "    }\n",
        "    .finetuned-diffusion-div div h1 {\n",
        "      font-weight: 900;\n",
        "      margin-bottom: 7px;\n",
        "    }\n",
        "    .finetuned-diffusion-div p {\n",
        "      margin-bottom: 10px;\n",
        "      font-size: 94%;\n",
        "    }\n",
        "    .finetuned-diffusion-div p a {\n",
        "      text-decoration: underline;\n",
        "    }\n",
        "  </style>\n",
        "\"\"\"\n",
        "with gr.Blocks(css=css) as demo:\n",
        "    gr.HTML(\n",
        "        \"\"\"\n",
        "            <div class=\"finetuned-diffusion-div\">\n",
        "              <div>\n",
        "                <h1>Finetuned Diffusion</h1>\n",
        "              </div>\n",
        "              <p>\n",
        "               Demo for multiple fine-tuned Stable Diffusion models, trained on different styles: <br>\n",
        "               <a href=\"https://huggingface.co/nitrosocke/Arcane-Diffusion\">Arcane</a>, <a href=\"https://huggingface.co/nitrosocke/archer-diffusion\">Archer</a>, <a href=\"https://huggingface.co/nitrosocke/elden-ring-diffusion\">Elden Ring</a>, <a href=\"https://huggingface.co/nitrosocke/spider-verse-diffusion\">Spiderverse</a>, <a href=\"https://huggingface.co/nitrosocke/modern-disney-diffusion\">Modern Disney</a>, <a href=\"https://huggingface.co/hakurei/waifu-diffusion\">Waifu</a>, <a href=\"https://huggingface.co/lambdalabs/sd-pokemon-diffusers\">Pokemon</a>, <a href=\"https://huggingface.co/yuk/fuyuko-waifu-diffusion\">Fuyuko Waifu</a>, <a href=\"https://huggingface.co/AstraliteHeart/pony-diffusion\">Pony</a>, <a href=\"https://huggingface.co/IfanSnek/JohnDiffusion\">John</a>, <a href=\"https://huggingface.co/nousr/robo-diffusion\">Robo</a>, <a href=\"https://huggingface.co/DGSpitzer/Cyberpunk-Anime-Diffusion\">Cyberpunk Anime</a>\n",
        "              </p>\n",
        "            </div>\n",
        "        \"\"\"\n",
        "    )\n",
        "    with gr.Row():\n",
        "        \n",
        "        with gr.Column():\n",
        "\n",
        "            model = gr.Dropdown(label=\"Model\", choices=models, value=models[0])\n",
        "            prompt = gr.Textbox(label=\"Prompt\", placeholder=\"Style prefix is applied automatically\")\n",
        "            with gr.Accordion(\"Image to image (optional)\", open=False):\n",
        "              image = gr.Image(label=\"Image\", height=256, tool=\"editor\", type=\"pil\")\n",
        "              strength = gr.Slider(label=\"Strength\", minimum=0, maximum=1, step=0.01, value=0.75)\n",
        "            \n",
        "            with gr.Accordion(\"Advanced options\", open=False):\n",
        "              guidance = gr.Slider(label=\"Guidance scale\", value=7.5, maximum=15)\n",
        "              steps = gr.Slider(label=\"Steps\", value=50, maximum=100, minimum=2)\n",
        "              seed = gr.Slider(0, 2147483647, label='Seed (0 = random)', value=0, step=1)\n",
        "\n",
        "            run = gr.Button(value=\"Run\")\n",
        "            gr.Markdown(f\"Running on: {device}\")\n",
        "        with gr.Column():\n",
        "            image_out = gr.Image(height=512)\n",
        "\n",
        "    prompt.submit(inference, inputs=[model, image, strength, prompt, guidance, steps, seed], outputs=image_out)\n",
        "    run.click(inference, inputs=[model, image, strength, prompt, guidance, steps, seed], outputs=image_out)\n",
        "    gr.Examples([\n",
        "        [models[0], \"jason bateman disassembling the demon core\", 7.5, 50],\n",
        "        [models[3], \"portrait of dwayne johnson\", 7.0, 75],\n",
        "        [models[4], \"portrait of a beautiful alyx vance half life\", 10, 50],\n",
        "        [models[5], \"Aloy from Horizon: Zero Dawn, half body portrait, smooth, detailed armor, beautiful face, illustration\", 7, 45],\n",
        "        [models[4], \"fantasy portrait painting, digital art\", 4, 30],\n",
        "    ], [model, prompt, guidance, steps], image_out, text_inference, cache_examples=torch.cuda.is_available())\n",
        "    gr.Markdown('''\n",
        "      Models by [@nitrosocke](https://huggingface.co/nitrosocke), [@Helixngc7293](https://twitter.com/DGSpitzer) and others. ❤️<br>\n",
        "      Space by: [![Twitter Follow](https://img.shields.io/twitter/follow/hahahahohohe?label=%40anzorq&style=social)](https://twitter.com/hahahahohohe)\n",
        "  \n",
        "      ![visitors](https://visitor-badge.glitch.me/badge?page_id=anzorq.finetuned_diffusion)\n",
        "    ''')\n",
        "\n",
        "demo.queue()\n",
        "demo.launch(share = True)"
      ],
      "metadata": {
        "id": "JSxrQWyvJg8K"
      },
      "execution_count": null,
      "outputs": []
    },
    {
      "cell_type": "markdown",
      "source": [
        "# Run the app.py to execute/run the Gradio app"
      ],
      "metadata": {
        "id": "JY5z6CCBFw1E"
      }
    },
    {
      "cell_type": "code",
      "source": [
        "! python app.py"
      ],
      "metadata": {
        "id": "H7qo-6AWFbLH"
      },
      "execution_count": null,
      "outputs": []
    },
    {
      "cell_type": "code",
      "source": [],
      "metadata": {
        "id": "a55L_QRzM0c9"
      },
      "execution_count": null,
      "outputs": []
    }
  ]
}